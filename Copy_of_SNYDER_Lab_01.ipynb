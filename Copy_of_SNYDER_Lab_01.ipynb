{
  "nbformat": 4,
  "nbformat_minor": 0,
  "metadata": {
    "colab": {
      "provenance": [],
      "include_colab_link": true
    },
    "kernelspec": {
      "name": "python3",
      "display_name": "Python 3"
    }
  },
  "cells": [
    {
      "cell_type": "markdown",
      "metadata": {
        "id": "view-in-github",
        "colab_type": "text"
      },
      "source": [
        "<a href=\"https://colab.research.google.com/github/tiasnyder/PHYS250/blob/main/Copy_of_SNYDER_Lab_01.ipynb\" target=\"_parent\"><img src=\"https://colab.research.google.com/assets/colab-badge.svg\" alt=\"Open In Colab\"/></a>"
      ]
    },
    {
      "cell_type": "markdown",
      "metadata": {
        "id": "36eTMfu05klo"
      },
      "source": [
        "# Lab 1: Python Review\n",
        "\n",
        "The goal of this notebook is to help you review some of the basics of python.\n",
        "\n",
        "Specifically, you will review\n",
        "\n",
        "* python syntax\n",
        "* markdown\n",
        "* formatted printing\n",
        "* loops\n",
        "* conditionals\n",
        "* functions\n",
        "* basic plotting\n",
        "\n"
      ]
    },
    {
      "cell_type": "markdown",
      "source": [
        "\n",
        "# Fixer-upper\n",
        "\n",
        "Fix the code in the cells below...it's all broken!\n",
        "\n",
        "(1 point each)"
      ],
      "metadata": {
        "id": "ho0V0oXimSW9"
      }
    },
    {
      "cell_type": "code",
      "metadata": {
        "id": "7xWQl5iV5ZlR",
        "colab": {
          "base_uri": "https://localhost:8080/"
        },
        "outputId": "78cf8ef6-5013-42dd-8ef7-68e242e8f14e"
      },
      "source": [
        "myage = 21 # Or fill in your age here\n",
        "\n",
        "print(\"My age is {0}\".format(myage)) # print should be all lowercase\n"
      ],
      "execution_count": null,
      "outputs": [
        {
          "output_type": "stream",
          "name": "stdout",
          "text": [
            "My age is 21\n"
          ]
        }
      ]
    },
    {
      "cell_type": "code",
      "metadata": {
        "id": "_uqX-8oa50fF",
        "colab": {
          "base_uri": "https://localhost:8080/"
        },
        "outputId": "4b81e877-2002-4e61-de23-99e813efad04"
      },
      "source": [
        "song = \"Believer\"\n",
        "artist = \"Imagine Dragons\"\n",
        "\n",
        "print(f\"{song} is sung by {artist}\") # make print all lowercase, add parentheses, remove the new line and tab"
      ],
      "execution_count": null,
      "outputs": [
        {
          "output_type": "stream",
          "name": "stdout",
          "text": [
            "Believer is sung by Imagine Dragons\n"
          ]
        }
      ]
    },
    {
      "cell_type": "code",
      "metadata": {
        "id": "YdQv3Fxw5_wh",
        "colab": {
          "base_uri": "https://localhost:8080/"
        },
        "outputId": "4c0589b5-706a-4503-e7a6-df98bc6b771f"
      },
      "source": [
        "from math import factorial\n",
        "\n",
        "factorial(4) # add parentheses"
      ],
      "execution_count": null,
      "outputs": [
        {
          "output_type": "execute_result",
          "data": {
            "text/plain": [
              "24"
            ]
          },
          "metadata": {},
          "execution_count": 7
        }
      ]
    },
    {
      "cell_type": "code",
      "metadata": {
        "id": "XMy2PU_u6Dpm",
        "colab": {
          "base_uri": "https://localhost:8080/"
        },
        "outputId": "5afe3445-ee25-4ab1-f3f5-5bbd9124c6f1"
      },
      "source": [
        "import math # import math function\n",
        "angle = math.pi/4.0 # use math.pi, not just pi\n",
        "\n",
        "from math import pi,cos\n",
        "\n",
        "print(cos(angle))"
      ],
      "execution_count": null,
      "outputs": [
        {
          "output_type": "stream",
          "name": "stdout",
          "text": [
            "0.7071067811865476\n"
          ]
        }
      ]
    },
    {
      "cell_type": "markdown",
      "metadata": {
        "id": "NJdvPivG6VhP"
      },
      "source": [
        "After you fix the above cell, try restarting the kernel (**Runtime --> Restart runtime...**) and re-running the cell to make sure it works.\n"
      ]
    },
    {
      "cell_type": "markdown",
      "metadata": {
        "id": "M_oS7zjam4_g"
      },
      "source": [
        "# Markdown\n",
        "(1 point each)\n",
        "\n",
        "1. Write out some text in bold, italics, and both.\n",
        "\n",
        "**bold text**\n",
        "\n",
        "*italics*\n",
        "\n",
        "**bold** and *italics*\n",
        "\n",
        "1. Make a bullet list.\n",
        "* a\n",
        "* b\n",
        "* c\n",
        "\n",
        "1. Write out some (3 or more) kinematic equations from Gen Phys I using LaTeX. You can reference a more complete list of\n",
        "symbols [here](https://artofproblemsolving.com/wiki/index.php/LaTeX:Symbols).\n",
        "\n",
        "$V_f = V_i + a * t$\n",
        "\n",
        "$Δx = V_i*t+0.5*a*t^2$\n",
        "\n",
        "$V_f^2 = Vi_i^2+2*a*Δx$\n"
      ]
    },
    {
      "cell_type": "markdown",
      "source": [
        "# Formatted Printing\n",
        "(1 point each)\n",
        "\n",
        "* We can use formatted print statements to print out variables.\n",
        "* We will often want to print the results of a calculation, but we don't want to print out a million digits.  We can use formatted print statements to limit the precision of the numbers that we print.\n",
        "* See this link for more details https://docs.python.org/3/tutorial/inputoutput.html"
      ],
      "metadata": {
        "id": "z46N8yx4mJp1"
      }
    },
    {
      "cell_type": "code",
      "source": [
        "myratio = 10/3\n",
        "print(myratio)"
      ],
      "metadata": {
        "id": "jGUaqE_ZmIJh",
        "colab": {
          "base_uri": "https://localhost:8080/"
        },
        "outputId": "57678070-cc30-42f5-e430-efcd284b1cba"
      },
      "execution_count": null,
      "outputs": [
        {
          "output_type": "stream",
          "name": "stdout",
          "text": [
            "3.3333333333333335\n"
          ]
        }
      ]
    },
    {
      "cell_type": "code",
      "source": [
        "# formatted print statement, we can reference the variable in brackets {}\n",
        "print(f\"my ratio = {myratio}\")"
      ],
      "metadata": {
        "id": "Q6SV8R-MnGwN",
        "colab": {
          "base_uri": "https://localhost:8080/"
        },
        "outputId": "19610813-24ca-43ee-c4d7-b3db8053fa09"
      },
      "execution_count": null,
      "outputs": [
        {
          "output_type": "stream",
          "name": "stdout",
          "text": [
            "my ratio = 3.3333333333333335\n"
          ]
        }
      ]
    },
    {
      "cell_type": "code",
      "source": [
        "# we can limit the number of decimal places that it prints\n",
        "# in the statement below, I ask python to print the first two digits after the decimal point\n",
        "print(f\"my ratio = {myratio:.2f}\")"
      ],
      "metadata": {
        "id": "CDcv5LfsnRS9",
        "colab": {
          "base_uri": "https://localhost:8080/"
        },
        "outputId": "3ab9afda-ac43-4492-93cb-35a797c14c85"
      },
      "execution_count": null,
      "outputs": [
        {
          "output_type": "stream",
          "name": "stdout",
          "text": [
            "my ratio = 3.33\n"
          ]
        }
      ]
    },
    {
      "cell_type": "code",
      "source": [
        "# print pi to 5 decimal places\n",
        "print(f\"pi = {math.pi:.5f}\")"
      ],
      "metadata": {
        "id": "my59mzWznlK_",
        "colab": {
          "base_uri": "https://localhost:8080/"
        },
        "outputId": "67cfae3b-54bb-4b25-ae8e-557f78bbae5f"
      },
      "execution_count": null,
      "outputs": [
        {
          "output_type": "stream",
          "name": "stdout",
          "text": [
            "pi = 3.14159\n"
          ]
        }
      ]
    },
    {
      "cell_type": "markdown",
      "metadata": {
        "id": "3giruAXg1Es9"
      },
      "source": [
        "# Lists\n",
        "\n",
        "These exercises will allow you to test your understanding of Python lists.\n",
        "\n",
        "(1 point each)"
      ]
    },
    {
      "cell_type": "code",
      "metadata": {
        "id": "YZmDOp-a0_7z"
      },
      "source": [
        "fib = [1,2,3,5,8,13,21,34,55,84]"
      ],
      "execution_count": null,
      "outputs": []
    },
    {
      "cell_type": "code",
      "metadata": {
        "id": "BQFNz7q91Osr",
        "colab": {
          "base_uri": "https://localhost:8080/"
        },
        "outputId": "23560aea-d8a8-4821-d86d-45c63ec6f766"
      },
      "source": [
        "# Print the second entry in the list fib.\n",
        "print(\"The second entry is: \", fib[1])"
      ],
      "execution_count": null,
      "outputs": [
        {
          "output_type": "stream",
          "name": "stdout",
          "text": [
            "The second entry is:  2\n"
          ]
        }
      ]
    },
    {
      "cell_type": "code",
      "metadata": {
        "id": "Uy59uKl51RKM",
        "colab": {
          "base_uri": "https://localhost:8080/"
        },
        "outputId": "b46f8dbc-09e9-487f-8cbe-c2aca1465201"
      },
      "source": [
        "# Print the 8th entry in the list fib.\n",
        "print(\"The 8th entry is: \", fib[7])"
      ],
      "execution_count": null,
      "outputs": [
        {
          "output_type": "stream",
          "name": "stdout",
          "text": [
            "The 8th entry is:  34\n"
          ]
        }
      ]
    },
    {
      "cell_type": "code",
      "metadata": {
        "id": "7SoOIZgu1SIs",
        "colab": {
          "base_uri": "https://localhost:8080/"
        },
        "outputId": "0eedbc78-452b-4b7e-8ce3-df5d1762d5f2"
      },
      "source": [
        "# How many entries are there in the fib list?\n",
        "print(\"There are\", len(fib), \"entries in the fib list.\")"
      ],
      "execution_count": null,
      "outputs": [
        {
          "output_type": "stream",
          "name": "stdout",
          "text": [
            "There are 10 entries in the fib list.\n"
          ]
        }
      ]
    },
    {
      "cell_type": "code",
      "metadata": {
        "id": "Hj-9YGFb1THE",
        "colab": {
          "base_uri": "https://localhost:8080/"
        },
        "outputId": "a2435b81-37b0-4989-db33-f2d65adc2c5c"
      },
      "source": [
        "# How would you reference (using the proper index) the number 13 in the fib list?\n",
        "sixth_number = fib[5]\n",
        "print(\"The sixth entry in the fib list is: \", sixth_number)"
      ],
      "execution_count": null,
      "outputs": [
        {
          "output_type": "stream",
          "name": "stdout",
          "text": [
            "The sixth entry in the fib list is:  13\n"
          ]
        }
      ]
    },
    {
      "cell_type": "code",
      "metadata": {
        "id": "JcVRV3K51UZM"
      },
      "source": [
        "words = ['Once upon a ','midnight dreary ','while I pondered ','weak and weary']"
      ],
      "execution_count": null,
      "outputs": []
    },
    {
      "cell_type": "code",
      "metadata": {
        "id": "JdPoBM6o1V31",
        "colab": {
          "base_uri": "https://localhost:8080/"
        },
        "outputId": "72115297-7eb0-4fcd-9a1e-a4f7ea95430e"
      },
      "source": [
        "# How many entries are there in the words list?\n",
        "print(\"There are\", len(words), \"entries in the words list\")"
      ],
      "execution_count": null,
      "outputs": [
        {
          "output_type": "stream",
          "name": "stdout",
          "text": [
            "There are 4 entries in the words list\n"
          ]
        }
      ]
    },
    {
      "cell_type": "code",
      "metadata": {
        "id": "Enh1au3T1W5t",
        "colab": {
          "base_uri": "https://localhost:8080/"
        },
        "outputId": "af799f2f-4db0-4047-be29-3cb913b6a4c6"
      },
      "source": [
        "# Print the 3rd entry in the words list.\n",
        "print(\"The third entry in the words list is:\", words[2])"
      ],
      "execution_count": null,
      "outputs": [
        {
          "output_type": "stream",
          "name": "stdout",
          "text": [
            "The third entry in the words list is: while I pondered \n"
          ]
        }
      ]
    },
    {
      "cell_type": "code",
      "metadata": {
        "id": "M52P5_901Xme",
        "colab": {
          "base_uri": "https://localhost:8080/"
        },
        "outputId": "7b19e825-ac20-4141-afa6-636e01de9070"
      },
      "source": [
        "# How many characters are there in the 3rd entry in the words list?\n",
        "print(\"There are\", len(words[2]), \"characters in the 3rd entry in the words list\")"
      ],
      "execution_count": null,
      "outputs": [
        {
          "output_type": "stream",
          "name": "stdout",
          "text": [
            "There are 17 characters in the 3rd entry in the words list\n"
          ]
        }
      ]
    },
    {
      "cell_type": "code",
      "metadata": {
        "id": "1G_Au1KQ1YVV",
        "colab": {
          "base_uri": "https://localhost:8080/"
        },
        "outputId": "472b7f78-924b-40e0-ab6c-19f7d699be65"
      },
      "source": [
        "# Make an empty list and use the append function to add to it the following numbers.\n",
        "# 16\n",
        "# 25\n",
        "# 121\n",
        "# 169\n",
        "# 225\n",
        "\n",
        "my_numbers = []\n",
        "\n",
        "my_numbers.append(16)\n",
        "my_numbers.append(25)\n",
        "my_numbers.append(121)\n",
        "my_numbers.append(169)\n",
        "my_numbers.append(225)\n",
        "\n",
        "print(\"The numbers in my list are:\", my_numbers)"
      ],
      "execution_count": null,
      "outputs": [
        {
          "output_type": "stream",
          "name": "stdout",
          "text": [
            "The numbers in my list are: [16, 25, 121, 169, 225]\n"
          ]
        }
      ]
    },
    {
      "cell_type": "code",
      "metadata": {
        "id": "F7JHfM771Z_-",
        "colab": {
          "base_uri": "https://localhost:8080/"
        },
        "outputId": "3c4d474c-6edd-45be-c0a7-40573d7ae70a"
      },
      "source": [
        "# Make a list of two lists. Add to the first ``sub\" list the following words\n",
        "# 'One'\n",
        "# 'Two'\n",
        "# 'Three'\n",
        "#  and add to the second list\n",
        "# 1\n",
        "# 2\n",
        "# 3\n",
        "\n",
        "my_lists = [[], []]\n",
        "\n",
        "my_lists[0].append('One')\n",
        "my_lists[0].append('Two')\n",
        "my_lists[0].append('Three')\n",
        "\n",
        "my_lists[1].append(1)\n",
        "my_lists[1].append(2)\n",
        "my_lists[1].append(3)\n",
        "\n",
        "print(\"The list of two lists includes:\", my_lists)"
      ],
      "execution_count": null,
      "outputs": [
        {
          "output_type": "stream",
          "name": "stdout",
          "text": [
            "The list of two lists includes: [['One', 'Two', 'Three'], [1, 2, 3]]\n"
          ]
        }
      ]
    },
    {
      "cell_type": "code",
      "metadata": {
        "id": "zEZju2mq1bbe",
        "colab": {
          "base_uri": "https://localhost:8080/"
        },
        "outputId": "c054adf4-29e1-40e4-d4e6-dd285a3bd03b"
      },
      "source": [
        "# Print out the entry with 'Two'\n",
        "entry_with_two = my_lists[0][1]\n",
        "print(\"The entry with 'Two' is:\", entry_with_two)"
      ],
      "execution_count": null,
      "outputs": [
        {
          "output_type": "stream",
          "name": "stdout",
          "text": [
            "The entry with 'Two' is: Two\n"
          ]
        }
      ]
    },
    {
      "cell_type": "code",
      "metadata": {
        "id": "e5Y2hZw01cjN",
        "colab": {
          "base_uri": "https://localhost:8080/"
        },
        "outputId": "6e876fdb-ffc2-4eb6-a905-bf2de1dffa92"
      },
      "source": [
        "# Print out the entry with 3\n",
        "entry_with_three = my_lists[1][2]\n",
        "print(\"The entry with '3' is:\", entry_with_three)"
      ],
      "execution_count": null,
      "outputs": [
        {
          "output_type": "stream",
          "name": "stdout",
          "text": [
            "The entry with '3' is: 3\n"
          ]
        }
      ]
    },
    {
      "cell_type": "markdown",
      "metadata": {
        "id": "lkngXj8V1ffm"
      },
      "source": [
        "# Loops\n",
        "\n",
        "These exercises will allow you to test your understanding of loops in Python.\n",
        "\n",
        "(2 points each)"
      ]
    },
    {
      "cell_type": "code",
      "metadata": {
        "id": "GGiYk-9s1dUN",
        "colab": {
          "base_uri": "https://localhost:8080/"
        },
        "outputId": "cbccc178-c4b8-4423-c518-ce8f7aa19d4a"
      },
      "source": [
        "# Use a while loop to print out the even numbers from 0-10 (inclusive)\n",
        "number = 0\n",
        "\n",
        "while number <= 10:\n",
        "  print(number)\n",
        "  number += 2"
      ],
      "execution_count": null,
      "outputs": [
        {
          "output_type": "stream",
          "name": "stdout",
          "text": [
            "0\n",
            "2\n",
            "4\n",
            "6\n",
            "8\n",
            "10\n"
          ]
        }
      ]
    },
    {
      "cell_type": "code",
      "metadata": {
        "id": "kp_qKAgB1jK3",
        "colab": {
          "base_uri": "https://localhost:8080/"
        },
        "outputId": "c5bf29a0-24b4-4f61-b9d5-855940f152e2"
      },
      "source": [
        "# Use a for loop with the range function to print out the even numbers from 0-10 (inclusive)\n",
        "number = 0\n",
        "\n",
        "for number in range(0,11,2):\n",
        "  print(number)\n"
      ],
      "execution_count": null,
      "outputs": [
        {
          "output_type": "stream",
          "name": "stdout",
          "text": [
            "0\n",
            "2\n",
            "4\n",
            "6\n",
            "8\n",
            "10\n"
          ]
        }
      ]
    },
    {
      "cell_type": "code",
      "metadata": {
        "id": "x5JOczHi1j-t",
        "colab": {
          "base_uri": "https://localhost:8080/"
        },
        "outputId": "af916bf6-be1e-4f99-cabd-e89e8ebf53d2"
      },
      "source": [
        "# Use a for loop to add up the multiples of 3 that are less than 100.\n",
        "mult_of_3 = 0\n",
        "\n",
        "for number in range(0,100,3):\n",
        "  mult_of_3 += number\n",
        "\n",
        "print(\"The sum of the multiples of 3 that are less than 100 is:\", mult_of_3)"
      ],
      "execution_count": null,
      "outputs": [
        {
          "output_type": "stream",
          "name": "stdout",
          "text": [
            "The sum of the multiples of 3 that are less than 100 is: 1683\n"
          ]
        }
      ]
    },
    {
      "cell_type": "code",
      "metadata": {
        "id": "Gj025a-D1k3u",
        "colab": {
          "base_uri": "https://localhost:8080/"
        },
        "outputId": "c92af575-924d-48b9-dd15-904940c03b40"
      },
      "source": [
        "# Use a while loop to add up the multiples of 3 (starting at 0), while the total is less than 100.\n",
        "total = 0\n",
        "number = 0\n",
        "\n",
        "while total < 100:\n",
        "  total += number\n",
        "  number += 3\n",
        "\n",
        "print(\"The sum of the multiples of 3 that are less than 100 is:\", total)\n"
      ],
      "execution_count": null,
      "outputs": [
        {
          "output_type": "stream",
          "name": "stdout",
          "text": [
            "The sum of the multiples of 3 that are less than 100 is: 108\n"
          ]
        }
      ]
    },
    {
      "cell_type": "code",
      "metadata": {
        "id": "TO_DbqrOQwiW",
        "colab": {
          "base_uri": "https://localhost:8080/"
        },
        "outputId": "e7091407-f5b4-4259-ad4c-cb1f00fd804b"
      },
      "source": [
        "fib = [1,2,3,5,8,13,21,34,55,84]\n",
        "\n",
        "# Loop over this list and print out the entries 2 ways:\n",
        "# * Just iterating over each entry in the list\n",
        "# * Using \"range\" and referencing the entries by index\n",
        "\n",
        "print(\"Iterating over each entry in the list:\")\n",
        "for entry in fib:\n",
        "  print(entry)\n",
        "\n",
        "print(\"\\nUsing 'range' and referencing the entries by index:\")\n",
        "for i in range(len(fib)):\n",
        "  print(fib[i])"
      ],
      "execution_count": null,
      "outputs": [
        {
          "output_type": "stream",
          "name": "stdout",
          "text": [
            "Iterating over each entry in the list:\n",
            "1\n",
            "2\n",
            "3\n",
            "5\n",
            "8\n",
            "13\n",
            "21\n",
            "34\n",
            "55\n",
            "84\n",
            "\n",
            "Using 'range' and referencing the entries by index:\n",
            "1\n",
            "2\n",
            "3\n",
            "5\n",
            "8\n",
            "13\n",
            "21\n",
            "34\n",
            "55\n",
            "84\n"
          ]
        }
      ]
    },
    {
      "cell_type": "code",
      "metadata": {
        "id": "TZEkZjBL1l3t",
        "colab": {
          "base_uri": "https://localhost:8080/"
        },
        "outputId": "502d9017-09d9-4216-f43d-974193cd81c2"
      },
      "source": [
        "# Put all the entries in the following list into a single string and print that string, using a for loop.\n",
        "words = ['Once upon a ','midnight dreary ','while I pondered ','weak and weary']\n",
        "\n",
        "string = ''\n",
        "for word in words:\n",
        "  string += word\n",
        "\n",
        "print(string)"
      ],
      "execution_count": null,
      "outputs": [
        {
          "output_type": "stream",
          "name": "stdout",
          "text": [
            "Once upon a midnight dreary while I pondered weak and weary\n"
          ]
        }
      ]
    },
    {
      "cell_type": "code",
      "metadata": {
        "id": "EP8hHaBz1nN2",
        "colab": {
          "base_uri": "https://localhost:8080/"
        },
        "outputId": "60567858-fe77-4be7-d12f-76bbb4f27494"
      },
      "source": [
        "# Fill a list with the first 1000 multiples of 13 (starting with 13). Verify your work by checking the length of the\n",
        "# list.\n",
        "\n",
        "mult_of_13 = []\n",
        "\n",
        "for i in range(1,1001):\n",
        "  mult_of_13.append(13 * i)\n",
        "\n",
        "list_length = len(mult_of_13)\n",
        "\n",
        "print(\"The first 1000 multiples of 13 are:\", mult_of_13)\n",
        "print(\"The length of the list is:\", list_length)"
      ],
      "execution_count": null,
      "outputs": [
        {
          "output_type": "stream",
          "name": "stdout",
          "text": [
            "The first 1000 multiples of 13 are: [13, 26, 39, 52, 65, 78, 91, 104, 117, 130, 143, 156, 169, 182, 195, 208, 221, 234, 247, 260, 273, 286, 299, 312, 325, 338, 351, 364, 377, 390, 403, 416, 429, 442, 455, 468, 481, 494, 507, 520, 533, 546, 559, 572, 585, 598, 611, 624, 637, 650, 663, 676, 689, 702, 715, 728, 741, 754, 767, 780, 793, 806, 819, 832, 845, 858, 871, 884, 897, 910, 923, 936, 949, 962, 975, 988, 1001, 1014, 1027, 1040, 1053, 1066, 1079, 1092, 1105, 1118, 1131, 1144, 1157, 1170, 1183, 1196, 1209, 1222, 1235, 1248, 1261, 1274, 1287, 1300, 1313, 1326, 1339, 1352, 1365, 1378, 1391, 1404, 1417, 1430, 1443, 1456, 1469, 1482, 1495, 1508, 1521, 1534, 1547, 1560, 1573, 1586, 1599, 1612, 1625, 1638, 1651, 1664, 1677, 1690, 1703, 1716, 1729, 1742, 1755, 1768, 1781, 1794, 1807, 1820, 1833, 1846, 1859, 1872, 1885, 1898, 1911, 1924, 1937, 1950, 1963, 1976, 1989, 2002, 2015, 2028, 2041, 2054, 2067, 2080, 2093, 2106, 2119, 2132, 2145, 2158, 2171, 2184, 2197, 2210, 2223, 2236, 2249, 2262, 2275, 2288, 2301, 2314, 2327, 2340, 2353, 2366, 2379, 2392, 2405, 2418, 2431, 2444, 2457, 2470, 2483, 2496, 2509, 2522, 2535, 2548, 2561, 2574, 2587, 2600, 2613, 2626, 2639, 2652, 2665, 2678, 2691, 2704, 2717, 2730, 2743, 2756, 2769, 2782, 2795, 2808, 2821, 2834, 2847, 2860, 2873, 2886, 2899, 2912, 2925, 2938, 2951, 2964, 2977, 2990, 3003, 3016, 3029, 3042, 3055, 3068, 3081, 3094, 3107, 3120, 3133, 3146, 3159, 3172, 3185, 3198, 3211, 3224, 3237, 3250, 3263, 3276, 3289, 3302, 3315, 3328, 3341, 3354, 3367, 3380, 3393, 3406, 3419, 3432, 3445, 3458, 3471, 3484, 3497, 3510, 3523, 3536, 3549, 3562, 3575, 3588, 3601, 3614, 3627, 3640, 3653, 3666, 3679, 3692, 3705, 3718, 3731, 3744, 3757, 3770, 3783, 3796, 3809, 3822, 3835, 3848, 3861, 3874, 3887, 3900, 3913, 3926, 3939, 3952, 3965, 3978, 3991, 4004, 4017, 4030, 4043, 4056, 4069, 4082, 4095, 4108, 4121, 4134, 4147, 4160, 4173, 4186, 4199, 4212, 4225, 4238, 4251, 4264, 4277, 4290, 4303, 4316, 4329, 4342, 4355, 4368, 4381, 4394, 4407, 4420, 4433, 4446, 4459, 4472, 4485, 4498, 4511, 4524, 4537, 4550, 4563, 4576, 4589, 4602, 4615, 4628, 4641, 4654, 4667, 4680, 4693, 4706, 4719, 4732, 4745, 4758, 4771, 4784, 4797, 4810, 4823, 4836, 4849, 4862, 4875, 4888, 4901, 4914, 4927, 4940, 4953, 4966, 4979, 4992, 5005, 5018, 5031, 5044, 5057, 5070, 5083, 5096, 5109, 5122, 5135, 5148, 5161, 5174, 5187, 5200, 5213, 5226, 5239, 5252, 5265, 5278, 5291, 5304, 5317, 5330, 5343, 5356, 5369, 5382, 5395, 5408, 5421, 5434, 5447, 5460, 5473, 5486, 5499, 5512, 5525, 5538, 5551, 5564, 5577, 5590, 5603, 5616, 5629, 5642, 5655, 5668, 5681, 5694, 5707, 5720, 5733, 5746, 5759, 5772, 5785, 5798, 5811, 5824, 5837, 5850, 5863, 5876, 5889, 5902, 5915, 5928, 5941, 5954, 5967, 5980, 5993, 6006, 6019, 6032, 6045, 6058, 6071, 6084, 6097, 6110, 6123, 6136, 6149, 6162, 6175, 6188, 6201, 6214, 6227, 6240, 6253, 6266, 6279, 6292, 6305, 6318, 6331, 6344, 6357, 6370, 6383, 6396, 6409, 6422, 6435, 6448, 6461, 6474, 6487, 6500, 6513, 6526, 6539, 6552, 6565, 6578, 6591, 6604, 6617, 6630, 6643, 6656, 6669, 6682, 6695, 6708, 6721, 6734, 6747, 6760, 6773, 6786, 6799, 6812, 6825, 6838, 6851, 6864, 6877, 6890, 6903, 6916, 6929, 6942, 6955, 6968, 6981, 6994, 7007, 7020, 7033, 7046, 7059, 7072, 7085, 7098, 7111, 7124, 7137, 7150, 7163, 7176, 7189, 7202, 7215, 7228, 7241, 7254, 7267, 7280, 7293, 7306, 7319, 7332, 7345, 7358, 7371, 7384, 7397, 7410, 7423, 7436, 7449, 7462, 7475, 7488, 7501, 7514, 7527, 7540, 7553, 7566, 7579, 7592, 7605, 7618, 7631, 7644, 7657, 7670, 7683, 7696, 7709, 7722, 7735, 7748, 7761, 7774, 7787, 7800, 7813, 7826, 7839, 7852, 7865, 7878, 7891, 7904, 7917, 7930, 7943, 7956, 7969, 7982, 7995, 8008, 8021, 8034, 8047, 8060, 8073, 8086, 8099, 8112, 8125, 8138, 8151, 8164, 8177, 8190, 8203, 8216, 8229, 8242, 8255, 8268, 8281, 8294, 8307, 8320, 8333, 8346, 8359, 8372, 8385, 8398, 8411, 8424, 8437, 8450, 8463, 8476, 8489, 8502, 8515, 8528, 8541, 8554, 8567, 8580, 8593, 8606, 8619, 8632, 8645, 8658, 8671, 8684, 8697, 8710, 8723, 8736, 8749, 8762, 8775, 8788, 8801, 8814, 8827, 8840, 8853, 8866, 8879, 8892, 8905, 8918, 8931, 8944, 8957, 8970, 8983, 8996, 9009, 9022, 9035, 9048, 9061, 9074, 9087, 9100, 9113, 9126, 9139, 9152, 9165, 9178, 9191, 9204, 9217, 9230, 9243, 9256, 9269, 9282, 9295, 9308, 9321, 9334, 9347, 9360, 9373, 9386, 9399, 9412, 9425, 9438, 9451, 9464, 9477, 9490, 9503, 9516, 9529, 9542, 9555, 9568, 9581, 9594, 9607, 9620, 9633, 9646, 9659, 9672, 9685, 9698, 9711, 9724, 9737, 9750, 9763, 9776, 9789, 9802, 9815, 9828, 9841, 9854, 9867, 9880, 9893, 9906, 9919, 9932, 9945, 9958, 9971, 9984, 9997, 10010, 10023, 10036, 10049, 10062, 10075, 10088, 10101, 10114, 10127, 10140, 10153, 10166, 10179, 10192, 10205, 10218, 10231, 10244, 10257, 10270, 10283, 10296, 10309, 10322, 10335, 10348, 10361, 10374, 10387, 10400, 10413, 10426, 10439, 10452, 10465, 10478, 10491, 10504, 10517, 10530, 10543, 10556, 10569, 10582, 10595, 10608, 10621, 10634, 10647, 10660, 10673, 10686, 10699, 10712, 10725, 10738, 10751, 10764, 10777, 10790, 10803, 10816, 10829, 10842, 10855, 10868, 10881, 10894, 10907, 10920, 10933, 10946, 10959, 10972, 10985, 10998, 11011, 11024, 11037, 11050, 11063, 11076, 11089, 11102, 11115, 11128, 11141, 11154, 11167, 11180, 11193, 11206, 11219, 11232, 11245, 11258, 11271, 11284, 11297, 11310, 11323, 11336, 11349, 11362, 11375, 11388, 11401, 11414, 11427, 11440, 11453, 11466, 11479, 11492, 11505, 11518, 11531, 11544, 11557, 11570, 11583, 11596, 11609, 11622, 11635, 11648, 11661, 11674, 11687, 11700, 11713, 11726, 11739, 11752, 11765, 11778, 11791, 11804, 11817, 11830, 11843, 11856, 11869, 11882, 11895, 11908, 11921, 11934, 11947, 11960, 11973, 11986, 11999, 12012, 12025, 12038, 12051, 12064, 12077, 12090, 12103, 12116, 12129, 12142, 12155, 12168, 12181, 12194, 12207, 12220, 12233, 12246, 12259, 12272, 12285, 12298, 12311, 12324, 12337, 12350, 12363, 12376, 12389, 12402, 12415, 12428, 12441, 12454, 12467, 12480, 12493, 12506, 12519, 12532, 12545, 12558, 12571, 12584, 12597, 12610, 12623, 12636, 12649, 12662, 12675, 12688, 12701, 12714, 12727, 12740, 12753, 12766, 12779, 12792, 12805, 12818, 12831, 12844, 12857, 12870, 12883, 12896, 12909, 12922, 12935, 12948, 12961, 12974, 12987, 13000]\n",
            "The length of the list is: 1000\n"
          ]
        }
      ]
    },
    {
      "cell_type": "markdown",
      "metadata": {
        "id": "i-AnL1XWnHpt"
      },
      "source": [
        "# Conditionals\n",
        "\n",
        "These exercises will allow you to test your understanding of conditional statments in Python.\n",
        "\n",
        "(2 points each)"
      ]
    },
    {
      "cell_type": "code",
      "metadata": {
        "id": "4D-yJ8nnyKeg",
        "colab": {
          "base_uri": "https://localhost:8080/"
        },
        "outputId": "e3f75330-61b3-4c45-db77-d7257d5204b7"
      },
      "source": [
        "# Test to see what is larger (without printing the answers to the\n",
        "# multiplication to the screen)\n",
        "#\n",
        "# 25*32\n",
        "# or\n",
        "# 17*49\n",
        "#\n",
        "# Print which product is larger to the screen.\n",
        "\n",
        "prod1 = 25 * 32\n",
        "prod2 = 17 * 49\n",
        "\n",
        "if prod1 > prod2:\n",
        "  print(\"The product of 25*32 is larger\")\n",
        "elif prod1 < prod2:\n",
        "  print(\"The product of 17*49 is larger\")\n",
        "else:\n",
        "  print(\"The products are equal\")"
      ],
      "execution_count": null,
      "outputs": [
        {
          "output_type": "stream",
          "name": "stdout",
          "text": [
            "The product of 17*49 is larger\n"
          ]
        }
      ]
    },
    {
      "cell_type": "code",
      "metadata": {
        "id": "-m9-3H_eyZeX",
        "colab": {
          "base_uri": "https://localhost:8080/"
        },
        "outputId": "4bf23063-6d24-404e-dbf0-ff98d1deb3d5"
      },
      "source": [
        "# Test whether or not 18/2 is the same as 36/4\n",
        "prod1 = 18 / 2\n",
        "prod2 = 36 / 4\n",
        "\n",
        "if prod1 > prod2:\n",
        "  print(\"18/2 is greater than 36/4\")\n",
        "elif prod1 < prod2:\n",
        "  print(\"36/4 is less than 18/2\")\n",
        "else:\n",
        "  print(\"18/2 and 36/4 are equal\")"
      ],
      "execution_count": null,
      "outputs": [
        {
          "output_type": "stream",
          "name": "stdout",
          "text": [
            "18/2 and 36/4 are equal\n"
          ]
        }
      ]
    },
    {
      "cell_type": "code",
      "metadata": {
        "id": "wfyraanJyalj",
        "colab": {
          "base_uri": "https://localhost:8080/"
        },
        "outputId": "95660bcf-65df-459a-a8b2-01f87c5f6ab1"
      },
      "source": [
        "# Test whether or not 18/2 is the same as 36.0/4.0\n",
        "prod1 = 18 / 2\n",
        "prod2 = 36.0 / 4.0\n",
        "\n",
        "if prod1 > prod2:\n",
        "  print(\"18/2 is greater than 36.0/4.0\")\n",
        "elif prod1 < prod2:\n",
        "  print(\"36.0/4.0 is less than 18/2\")\n",
        "else:\n",
        "  print(\"18/2 and 36.0/4.0 are equal\")"
      ],
      "execution_count": null,
      "outputs": [
        {
          "output_type": "stream",
          "name": "stdout",
          "text": [
            "18/2 and 36.0/4.0 are equal\n"
          ]
        }
      ]
    },
    {
      "cell_type": "code",
      "metadata": {
        "id": "aUJ3IR5qybeu",
        "colab": {
          "base_uri": "https://localhost:8080/"
        },
        "outputId": "b6b0b885-489e-4b5b-9443-691fb60c7360"
      },
      "source": [
        "# Test whether or not 1/2 is the same as 1.0/2.0\n",
        "prod1 = 1 / 2\n",
        "prod2 = 1.0 / 2\n",
        "\n",
        "if prod1 > prod2:\n",
        "  print(\"1/2 is greater than 1.0/2\")\n",
        "elif prod1 < prod2:\n",
        "  print(\"1.0/2.0 is less than 1/2\")\n",
        "else:\n",
        "  print(\"1/2 and 1.0/2.0 are equal\")"
      ],
      "execution_count": null,
      "outputs": [
        {
          "output_type": "stream",
          "name": "stdout",
          "text": [
            "1/2 and 1.0/2.0 are equal\n"
          ]
        }
      ]
    },
    {
      "cell_type": "code",
      "metadata": {
        "id": "S9aKmmQ8yc4Q",
        "colab": {
          "base_uri": "https://localhost:8080/"
        },
        "outputId": "41159628-2df2-440c-c8e6-130e730032c8"
      },
      "source": [
        "# Are these two strings equal? If not write some code to figure out what is different.\n",
        "x = \"00000000000000000000000000000000000000000000000000\"\n",
        "y = \"00000000000000000000000000000000000000000000O00000\"\n",
        "\n",
        "if x == y:\n",
        "  print(\"The strings are equal\")\n",
        "else:\n",
        "  print(\"The strings are not equal\")\n",
        "\n",
        "differences = [(i, x[i], y[i]) for i in range(len(x)) if x[i] != y[i]]\n",
        "print(\"Differences:\")\n",
        "for index, char_x, char_y in differences:\n",
        "  print(f\"At index {index}: '{char_x}' in x, '{char_y}' in y.\")"
      ],
      "execution_count": null,
      "outputs": [
        {
          "output_type": "stream",
          "name": "stdout",
          "text": [
            "The strings are not equal\n",
            "Differences:\n",
            "At index 44: '0' in x, 'O' in y.\n"
          ]
        }
      ]
    },
    {
      "cell_type": "markdown",
      "metadata": {
        "id": "zXiidCtvnwCq"
      },
      "source": [
        "# Functions\n",
        "\n",
        "Write a function called ```feet2miles``` that takes in 1 argument, ```feet``` and returns the equivalent number of miles. Set the default value of feet to be 100.\n",
        "\n",
        "For reference, there are 5280 feet in a mile.\n",
        "\n",
        "(5 points)"
      ]
    },
    {
      "cell_type": "code",
      "metadata": {
        "id": "Db55VxfCnw3B",
        "colab": {
          "base_uri": "https://localhost:8080/"
        },
        "outputId": "f9c04e59-a8d2-49f9-8817-82098ee0d478"
      },
      "source": [
        "# Your code here\n",
        "def feet2miles(feet = 100):\n",
        "  miles = feet / 5280\n",
        "  return miles\n",
        "\n",
        "# This part is for testing the above.\n",
        "\n",
        "m = feet2miles(5280)\n",
        "print(m) # Should be 1\n",
        "\n",
        "m = feet2miles(1)\n",
        "print(m)\n",
        "\n",
        "m = feet2miles(1000)\n",
        "print(m)"
      ],
      "execution_count": null,
      "outputs": [
        {
          "output_type": "stream",
          "name": "stdout",
          "text": [
            "1.0\n",
            "0.0001893939393939394\n",
            "0.1893939393939394\n"
          ]
        }
      ]
    },
    {
      "cell_type": "code",
      "source": [
        "# Make an array of values in feet, ranging from 1000 to 20000, in steps of 1000\n",
        "# using the np.arange function\n",
        "\n",
        "import numpy as np\n",
        "\n",
        "myfeet = np.arange(1000, 21000, 1000)\n",
        "\n",
        "mymiles = feet2miles(myfeet)\n",
        "\n",
        "# Use your feet2miles function to create a second array,\n",
        "# which is the equivalent of myfeet but is instead mymiles\n",
        "# this should be only one line of code!\n",
        "\n",
        "print(\"Array in feet:\", myfeet)\n",
        "print(\"Array in miles:\", mymiles)\n"
      ],
      "metadata": {
        "id": "eXKYot3Tprt4",
        "colab": {
          "base_uri": "https://localhost:8080/"
        },
        "outputId": "e34e78a1-a17c-4956-92b1-cb91d1a04b68"
      },
      "execution_count": null,
      "outputs": [
        {
          "output_type": "stream",
          "name": "stdout",
          "text": [
            "Array in feet: [ 1000  2000  3000  4000  5000  6000  7000  8000  9000 10000 11000 12000\n",
            " 13000 14000 15000 16000 17000 18000 19000 20000]\n",
            "Array in miles: [0.18939394 0.37878788 0.56818182 0.75757576 0.9469697  1.13636364\n",
            " 1.32575758 1.51515152 1.70454545 1.89393939 2.08333333 2.27272727\n",
            " 2.46212121 2.65151515 2.84090909 3.03030303 3.21969697 3.40909091\n",
            " 3.59848485 3.78787879]\n"
          ]
        }
      ]
    },
    {
      "cell_type": "markdown",
      "metadata": {
        "id": "ZfpbRMrF0gc1"
      },
      "source": [
        "# Plotting"
      ]
    },
    {
      "cell_type": "markdown",
      "metadata": {
        "id": "LWKVeMFsHR1R"
      },
      "source": [
        "## Kinematics\n",
        "\n",
        "(5 points)\n",
        "\n",
        "Suppose you are standing on a cliff 50 meters high. You throw a ball almost straight up with a velocity of 15 m/s. It misses the edge of the cliff on the way down so it will continue all the way to the ground below.\n",
        "\n",
        "Neglecting air resistance, solve for the height, velocity, and acceleration of the ball as a function of time.  Write your solution on a whiteboard and check your results with your instructor.\n",
        "\n",
        "Once you have your solution approved, write the functions that you determined here.  Be sure to use the latex/markup features to display the equations in a nice format.   (2 points)\n",
        "\n",
        "$h(t) = 50 + 15t - (9.8)t^2$\n",
        "\n",
        "$v(t) = 15 - 9.8t$\n",
        "\n",
        "$a(t) = -9.8$\n",
        "\n",
        "Then make some plots of the (6 points)\n",
        "\n",
        "* Acceleration vs. time\n",
        "* Velocity vs. time\n",
        "* Position vs. time\n",
        "\n",
        "Make these plots for the time period when it is thrown in the air until it lands on the ground below.\n"
      ]
    },
    {
      "cell_type": "code",
      "metadata": {
        "id": "5lOCmSa8oLL3",
        "colab": {
          "base_uri": "https://localhost:8080/",
          "height": 807
        },
        "outputId": "355ed065-cf2c-42eb-a6ba-b8094d99b6c3"
      },
      "source": [
        "y0=50\n",
        "v = 15\n",
        "g = 9.8\n",
        "\n",
        "def height(t):\n",
        "    return y0 + v*t - 0.5*g*t**2\n",
        "\n",
        "def velocity(t):\n",
        "    return v - g*t\n",
        "\n",
        "def acceleration(t):\n",
        "    return -g*np.ones(len(t))\n",
        "\n",
        "# Generate time values from 0 to the time it takes for the ball to hit the ground\n",
        "time_values = np.linspace(0, np.sqrt(2*50/9.8), 100)\n",
        "\n",
        "# Calculate height, velocity, and acceleration for each time value\n",
        "height_values = height(time_values)\n",
        "velocity_values = velocity(time_values)\n",
        "acceleration_values = acceleration(time_values)\n",
        "\n",
        "plt.figure(figsize=(12, 8))\n",
        "\n",
        "plt.subplot(3, 1, 1)\n",
        "plt.plot(time_values, acceleration_values)\n",
        "plt.title('Acceleration vs. Time')\n",
        "plt.xlabel('Time (s)')\n",
        "plt.ylabel('Acceleration (m/s^2)')\n",
        "\n",
        "plt.subplot(3, 1, 2)\n",
        "plt.plot(time_values, velocity_values)\n",
        "plt.title('Velocity vs. Time')\n",
        "plt.xlabel('Time (s)')\n",
        "plt.ylabel('Velocity (m/s)')\n",
        "\n",
        "plt.subplot(3, 1, 3)\n",
        "plt.plot(time_values, height_values)\n",
        "plt.title('Position vs. Time')\n",
        "plt.xlabel('Time (s)')\n",
        "plt.ylabel('Height (m)')\n",
        "\n",
        "plt.tight_layout()\n",
        "plt.show()"
      ],
      "execution_count": null,
      "outputs": [
        {
          "output_type": "display_data",
          "data": {
            "text/plain": [
              "<Figure size 1200x800 with 3 Axes>"
            ],
            "image/png": "[encoded data removed]"
          },
          "metadata": {}
        }
      ]
    },
    {
      "cell_type": "markdown",
      "source": [
        "## Make a plot of $sin(\\theta)$ and $cos(\\theta)$\n",
        "\n",
        "(5 points)\n",
        "\n",
        "* make a plot of $sin(\\theta)$ and $cos(\\theta)$ as a function of theta, $\\theta$.\n",
        "* theta should be in radians, with theta ranging from $0 \\le \\theta \\le 2\\pi$. (Hint: use np.linspace to create the theta array, with 100 elements.)\n",
        "* make a plot with 1 column and two rows, and plot sin in the top row and cosine in the bottom row.  You can use plt.subplot to make multi-panel plots.\n",
        "\n",
        "```\n",
        "plt.subplot(2,1,1)\n",
        "```\n",
        "* NOTE: for this exercise, you should use the trig functions from numpy, e.g. np.sin and np.cos.\n",
        "\n",
        "(4 points)"
      ],
      "metadata": {
        "id": "j2mlCHh4oMhx"
      }
    },
    {
      "cell_type": "code",
      "source": [
        "import numpy as np\n",
        "import matplotlib.pyplot as plt\n",
        "\n",
        "theta = np.linspace(0, 2*np.pi, 100)\n",
        "\n",
        "sin_values = np.sin(theta)\n",
        "cos_values = np.cos(theta)\n",
        "\n",
        "plt.subplot(2,1,1)\n",
        "plt.plot(theta, sin_values, label='sin(theta)')\n",
        "plt.title('sin(theta)')\n",
        "plt.xlabel('Theta (radians)')\n",
        "plt.ylabel('sin(theta)')\n",
        "plt.legend()\n",
        "\n",
        "plt.subplot(2,1,2)\n",
        "plt.plot(theta, cos_values, label='cos(theta)')\n",
        "plt.title('cos(theta)')\n",
        "plt.xlabel('Theta (radians)')\n",
        "plt.ylabel('cos(theta)')\n",
        "plt.legend()\n",
        "\n",
        "plt.tight_layout()\n",
        "plt.show()"
      ],
      "metadata": {
        "id": "FA-1b2RGo9Dz",
        "colab": {
          "base_uri": "https://localhost:8080/",
          "height": 486
        },
        "outputId": "8c49c1d3-575c-4ffd-909e-0914503b6c67"
      },
      "execution_count": null,
      "outputs": [
        {
          "output_type": "display_data",
          "data": {
            "text/plain": [
              "<Figure size 640x480 with 2 Axes>"
            ],
            "image/png": "[encoded data removed]"
          },
          "metadata": {}
        }
      ]
    }
  ]
}