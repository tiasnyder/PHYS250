{
  "nbformat": 4,
  "nbformat_minor": 0,
  "metadata": {
    "colab": {
      "provenance": [],
      "include_colab_link": true
    },
    "kernelspec": {
      "name": "python3",
      "display_name": "Python 3"
    },
    "language_info": {
      "name": "python"
    }
  },
  "cells": [
    {
      "cell_type": "markdown",
      "metadata": {
        "id": "view-in-github",
        "colab_type": "text"
      },
      "source": [
        "<a href=\"https://colab.research.google.com/github/tiasnyder/PHYS250/blob/main/SNYDER_Unit_Testing.ipynb\" target=\"_parent\"><img src=\"https://colab.research.google.com/assets/colab-badge.svg\" alt=\"Open In Colab\"/></a>"
      ]
    },
    {
      "cell_type": "markdown",
      "source": [
        "# Testing\n",
        "\n",
        "* When writing functions and programs, we should be sure to test the output.\n",
        "* You can compare the output to what is expected using assert."
      ],
      "metadata": {
        "id": "oFhxG5FhwaT9"
      }
    },
    {
      "cell_type": "code",
      "execution_count": 19,
      "metadata": {
        "id": "duhXt5_ZHLuh"
      },
      "outputs": [],
      "source": [
        "# define a function that multiplies by 2 and subtracts one\n",
        "\n",
        "def mult2minus1(x):\n",
        "  \"\"\"multiply by 2 and subtract 1\"\"\"\n",
        "  y = 2 * x - 1\n",
        "  return y"
      ]
    },
    {
      "cell_type": "code",
      "source": [
        "# use assert to test the output when the input is equal to x\n",
        "assert mult2minus1(0) == -1"
      ],
      "metadata": {
        "id": "rnke5hHwqNe5"
      },
      "execution_count": 9,
      "outputs": []
    },
    {
      "cell_type": "markdown",
      "source": [
        "# Using `try` and `except`\n",
        "\n",
        "* We can make this a little more sophisticated using the try/except commands.\n",
        "* This will allow us to give information back to the user without causing the testing cell to crash.\n",
        "* We could also tailor the feedback based on what the function returns.\n"
      ],
      "metadata": {
        "id": "DQ1gyLLQyNaD"
      }
    },
    {
      "cell_type": "code",
      "source": [
        "# demo : use try and except to make the code more robust\n",
        "\n",
        "# if the function returns the correct value, congratulate the user\n",
        "\n",
        "# if the function returns a wrong value, print error message to user\n",
        "\n",
        "try:\n",
        "  assert mult2minus1(0) == -1\n",
        "  print(\"the function returned the correct value!\")\n",
        "except AssertionError:\n",
        "  print(\"the function retured the wrong value!\")"
      ],
      "metadata": {
        "id": "C5EGegacrM0C",
        "colab": {
          "base_uri": "https://localhost:8080/"
        },
        "outputId": "9b54f9a8-e65b-439b-db82-684922e805eb"
      },
      "execution_count": 20,
      "outputs": [
        {
          "output_type": "stream",
          "name": "stdout",
          "text": [
            "the function returned the correct value!\n"
          ]
        }
      ]
    },
    {
      "cell_type": "markdown",
      "source": [
        "# Your turn\n",
        "\n",
        "follow the instructions below to create a function and test it."
      ],
      "metadata": {
        "id": "OK1Oo-n2yY0O"
      }
    },
    {
      "cell_type": "code",
      "source": [
        "# make a function that squares the input\n",
        "\n",
        "import numpy as np\n",
        "\n",
        "def squared(x):\n",
        "  y = x**2\n",
        "  return y"
      ],
      "metadata": {
        "id": "wWFUF590riet"
      },
      "execution_count": 35,
      "outputs": []
    },
    {
      "cell_type": "code",
      "source": [
        "# test with a positive number\n",
        "assert squared(8) == 64\n",
        "\n",
        "# test with a negative number\n",
        "assert squared(-5) == 25\n",
        "\n",
        "# test with zero\n",
        "assert squared(0) == 0\n"
      ],
      "metadata": {
        "id": "5Eb332XWm2sn"
      },
      "execution_count": 36,
      "outputs": []
    },
    {
      "cell_type": "markdown",
      "source": [
        "# Create your own example\n",
        "\n",
        "* Create your own function\n",
        "* develop a test code to check the output of the function"
      ],
      "metadata": {
        "id": "f5hjrr1sm0d6"
      }
    },
    {
      "cell_type": "code",
      "source": [
        "def myfunc(x):\n",
        "  \"\"\"multiply x by 6 and then subtract x squared\"\"\"\n",
        "  y = 6 * x - x**2\n",
        "  return y"
      ],
      "metadata": {
        "id": "9UO9OGLuDibm"
      },
      "execution_count": 32,
      "outputs": []
    },
    {
      "cell_type": "code",
      "source": [
        "assert myfunc(2) == 8"
      ],
      "metadata": {
        "id": "ZqWVCD_6DvDc"
      },
      "execution_count": 33,
      "outputs": []
    }
  ]
}