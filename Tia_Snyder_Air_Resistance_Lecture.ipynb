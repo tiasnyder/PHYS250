{
  "nbformat": 4,
  "nbformat_minor": 0,
  "metadata": {
    "colab": {
      "provenance": [],
      "include_colab_link": true
    },
    "kernelspec": {
      "name": "python3",
      "display_name": "Python 3"
    },
    "language_info": {
      "name": "python"
    }
  },
  "cells": [
    {
      "cell_type": "markdown",
      "metadata": {
        "id": "view-in-github",
        "colab_type": "text"
      },
      "source": [
        "<a href=\"https://colab.research.google.com/github/tiasnyder/PHYS250/blob/main/Tia_Snyder_Air_Resistance_Lecture.ipynb\" target=\"_parent\"><img src=\"https://colab.research.google.com/assets/colab-badge.svg\" alt=\"Open In Colab\"/></a>"
      ]
    },
    {
      "cell_type": "markdown",
      "source": [
        "# Modeling Air Resistance with the Euler Method\n",
        "*written by Rose Finn*\n",
        "\n",
        "*Adapted from Giordano and Nakanishi, [Computational Physics](https://www.physics.purdue.edu/~hisao/book/), Chapter 2*\n",
        "\n",
        "# Overview\n",
        "\n",
        "We can model the motion of any system if we know the net force.  Starting with Newton's second law in one dimension:\n",
        "\n",
        "$$ F = m a$$\n",
        "\n",
        "and we know acceleration is the change in velocity with time, $a = dv/dt$.\n",
        "\n",
        "We can then solve the second law for acceleration:\n",
        "\n",
        "$$ \\frac{dv}{dt} = \\frac{F}{m} $$\n",
        "\n",
        "If we instead use differences instead of the derivative, we get:\n",
        "\n",
        "$$ \\frac{\\Delta v}{\\Delta t} = \\frac{F}{m} $$\n",
        "\n",
        "$$ \\frac{v_{i+1} - v_i}{\\Delta t} = \\frac{F}{m} $$\n",
        "\n",
        "We can solve for $v_{i+1}$:\n",
        "$$ v_{i+1}  = v_i + \\frac{F}{m} \\Delta t $$\n",
        "\n",
        "We can use this equation with the Euler method to approximate how velocity varies with time, if we know the net force $F$.\n",
        "\n",
        "We will first develop code for an object without air resistance, and we will then model the addition of air resistance.\n",
        "\n",
        "\n"
      ],
      "metadata": {
        "id": "YokyfEhSPpc9"
      }
    },
    {
      "cell_type": "code",
      "execution_count": 1,
      "metadata": {
        "id": "izA24BDTPjmx"
      },
      "outputs": [],
      "source": [
        "# import numpy, pyplot, and math\n",
        "import numpy as np\n",
        "from matplotlib import pyplot as plt\n",
        "import math"
      ]
    },
    {
      "cell_type": "markdown",
      "source": [
        "# But first - some practice with functions!\n",
        "\n",
        "Write a function called **req_parallel** that takes in a list of resistors and calculates the equivalent resistance for when they are connected in parallel.\n",
        "\n",
        "* input\n",
        "  * list or array of resistor values\n",
        "* function will\n",
        "  * calculate Req for resistors connected in parallel\n",
        "* return\n",
        "  * the equivalent resistance"
      ],
      "metadata": {
        "id": "OwpXYr_dsBwY"
      }
    },
    {
      "cell_type": "code",
      "source": [
        "# write your function req_parallel here\n",
        "def req_parallel(resistor_values):\n",
        "  Req = ((1/resistor_values[0]) + (1/resistor_values[1]) + (1/resistor_values[2]))**-1\n",
        "  return Req"
      ],
      "metadata": {
        "id": "TD5r5QMOsF5L"
      },
      "execution_count": 15,
      "outputs": []
    },
    {
      "cell_type": "code",
      "source": [
        "# write code to test the output for 3 resistors (each 10 ohm) connected\n",
        "# in parallel.  Solve the problem by hand first, and then use assert\n",
        "# to check the value from your function\n",
        "resistor_values = [10,10,10]\n",
        "assert req_parallel(resistor_values) == 3.333333333333333\n"
      ],
      "metadata": {
        "id": "7H-6WWA1snUU"
      },
      "execution_count": 16,
      "outputs": []
    },
    {
      "cell_type": "markdown",
      "source": [
        "### Using your function\n",
        "\n",
        "Goal: to determine the current being draw from the battery in the diagram below\n",
        "\n",
        "![parallel_circuit.png](data:image/png;base64,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)\n",
        "\n",
        "In the cell below:\n",
        "* define your variables:\n",
        "  * the values of $R_1, R_2, R_3$ based on the values in the picture\n",
        "  * the battery voltage $V_{batt}$\n",
        "* create an array with the values of the resistors.\n",
        "* use your function to calculate the equivalent resistance, and save the output of your function as $Req$.\n",
        "* Use Ohm's law to determine the current being drawn from the battery.\n",
        "* Print out the current using a descriptive print statement.  Only print out 3 significant figures."
      ],
      "metadata": {
        "id": "CpDRCsm3s2TX"
      }
    },
    {
      "cell_type": "code",
      "source": [
        "# your code here\n",
        "r1 = 10000\n",
        "r2 = 2000\n",
        "r3 = 1000\n",
        "Vbatt = 9\n",
        "\n",
        "resistor_values= [r1,r2,r3]\n",
        "req = req_parallel(resistor_values)\n",
        "\n",
        "current = Vbatt / req\n",
        "print(f\"The current is {current:.4f}\")"
      ],
      "metadata": {
        "id": "wAfB1QZ5-7cP",
        "colab": {
          "base_uri": "https://localhost:8080/"
        },
        "outputId": "f1758d8a-044a-4857-d28c-e7d84cb88e93"
      },
      "execution_count": 18,
      "outputs": [
        {
          "output_type": "stream",
          "name": "stdout",
          "text": [
            "The current is 0.0144\n"
          ]
        }
      ]
    },
    {
      "cell_type": "markdown",
      "source": [
        "# First step in modeling motion - ignore air resistance\n",
        "\n",
        "To start off simply, let's model the motion of a bicylist without air resistance.\n",
        "\n",
        "We can increment velocity at each time step if we know the acceleration:\n",
        "\n",
        "$$ v_{i+1} = v_i + a \\Delta t $$\n",
        "\n",
        "\n",
        "In class we showed that we can determine the velocity of a bicyclist based on their power output $P$ and mass $m$ by combining the relations $a = \\frac{F}{m}$ and $P = F v$:\n",
        "\n",
        "$$ v_{i+1} = v_i + a \\Delta t $$\n",
        "\n",
        "$$ v_{i+1} = v_i + \\frac{F}{m} \\Delta t $$\n",
        "\n",
        "$$ v_{i+1} = v_i + \\frac{P}{m v_i} \\Delta t $$\n",
        "\n",
        "\n",
        "\n"
      ],
      "metadata": {
        "id": "ZCFNJ63KV0K3"
      }
    },
    {
      "cell_type": "markdown",
      "source": [
        "## Acceleration function\n",
        "\n",
        "Write a function called **acceleration** that will do the following.\n",
        "\n",
        "* input\n",
        "  * $P$ - power output of cyclist\n",
        "  * $m$ - mass of the cyclist and bicycle\n",
        "  * $v$ - velocity\n",
        "\n",
        "* function will calculate acceleration as\n",
        "$$ a = \\frac{P}{mv} $$\n",
        "\n",
        "* return\n",
        "  * $a$ - acceleration"
      ],
      "metadata": {
        "id": "2s_0OI0W1aKq"
      }
    },
    {
      "cell_type": "code",
      "source": [
        "# your acceleration function here\n",
        "def acceleration(P,m,v):\n",
        "  a = P / (m*v)\n",
        "  return a"
      ],
      "metadata": {
        "id": "P2u6A1EEVyzi"
      },
      "execution_count": 19,
      "outputs": []
    },
    {
      "cell_type": "markdown",
      "source": [
        "## Write Your Initialize Function\n",
        "\n",
        "Write a function called **initialize** that will do the following.\n",
        "* input\n",
        "  * v0 - initial velocity\n",
        "  * tmax - total time to run simulation\n",
        "  * dt - time step\n",
        "* function should\n",
        "  * calculate the number of steps nsteps as tmax/dt\n",
        "  * make sure nsteps is an integer\n",
        "  * set up arrays for velocity (v) and time (t) using `v=np.zeros(nsteps)`\n",
        "  * set the first element of the velocity array to v0\n",
        "* return\n",
        "  * time and velocity arrays"
      ],
      "metadata": {
        "id": "FPOLB1N93Pxx"
      }
    },
    {
      "cell_type": "code",
      "source": [
        "# initialize function here\n",
        "def initialize(v0,tmax,dt):\n",
        "  nsteps = int(tmax / dt)\n",
        "\n",
        "  v = np.zeros(nsteps)\n",
        "  t = np.zeros(nsteps)\n",
        "\n",
        "  v[0] = v0\n",
        "  return t,v"
      ],
      "metadata": {
        "id": "mB19LU7z3Qem"
      },
      "execution_count": 29,
      "outputs": []
    },
    {
      "cell_type": "markdown",
      "source": [
        "# Write the Calculate Function\n",
        "\n",
        "Write a function called **calculate** that will do the following.\n",
        "\n",
        "* input\n",
        "  * t - time array\n",
        "  * v - velocity array\n",
        "  * dt - time step\n",
        "  * P - power output of cyclist\n",
        "  * m - mass of cyclist\n",
        "* function should\n",
        "  * calculate velocity and time arrays using Euler method\n",
        "  ```python\n",
        "  v[i] = v[i-1] + acceleration(P,m,v[i-1]) * dt\n",
        "  t[i] = t[i-1] + dt\n",
        "  ```\n",
        "* return\n",
        "  * time and velocity arrays"
      ],
      "metadata": {
        "id": "6oI7a6lK5j5d"
      }
    },
    {
      "cell_type": "code",
      "source": [
        "# your calculate function here\n",
        "def calculate(t,v,dt,P,m):\n",
        "  for i in range(1,len(t)):\n",
        "    v[i] = v[i-1] + acceleration(P,m,v[i-1]) * dt\n",
        "    t[i] = t[i-1] + dt\n",
        "  return t,v"
      ],
      "metadata": {
        "id": "ZaHB9oW95jDk"
      },
      "execution_count": 23,
      "outputs": []
    },
    {
      "cell_type": "markdown",
      "source": [
        "## Running your code\n",
        "\n",
        "**Define your variables:**  Set the power output of the rider to 400 Watts.  Set the mass to 70 kg, and the initial velocity to 4 m/s.  Set the time step to 0.1 seconds, and run the calculation out to 200 seconds.\n",
        "\n",
        "Then follow the comments to complete the Euler calculation and plot the results.\n"
      ],
      "metadata": {
        "id": "f0VwipMv6W-Q"
      }
    },
    {
      "cell_type": "code",
      "source": [
        "############################################################\n",
        "# This is your main program that will call the functions.\n",
        "############################################################\n",
        "\n",
        "\n",
        "# define variables and initial conditions\n",
        "\n",
        "P = 400     # watts\n",
        "m = 70      # kg\n",
        "v0 = 4      # m/s\n",
        "dt = 0.1    # seconds\n",
        "tmax = 200  # seconds\n",
        "\n",
        "# call initialize and save output as t,v\n",
        "t,v = initialize(v0,tmax,dt)\n",
        "# call calculate, and save output as tnoair,vnoair\n",
        "tnoair,vnoair = calculate(t,v,dt,P,m)\n",
        "\n",
        "# plot velocity vs time with a line\n",
        "# be sure to label the x and y axes\n",
        "# include a legend and figure title\n",
        "plt.figure()\n",
        "plt.plot(tnoair,vnoair,'k',label='Velocity vs Time')\n",
        "plt.xlabel('time (sec)')\n",
        "plt.ylabel('velocity (m/s)')\n",
        "plt.title('Velocity vs Time')\n",
        "plt.legend()\n",
        "plt.show()"
      ],
      "metadata": {
        "id": "wLNROdth6c1H",
        "colab": {
          "base_uri": "https://localhost:8080/",
          "height": 472
        },
        "outputId": "11301854-97e7-4f76-ec42-d69ca8ba5d91"
      },
      "execution_count": 31,
      "outputs": [
        {
          "output_type": "display_data",
          "data": {
            "text/plain": [
              "<Figure size 640x480 with 1 Axes>"
            ],
            "image/png": "[encoded data removed]"
          },
          "metadata": {}
        }
      ]
    },
    {
      "cell_type": "markdown",
      "source": [
        "## Reflection\n",
        "\n",
        "Discuss the following questions with your neighbors, and summarize your thoughts below.\n",
        "\n",
        "* What is the speed of the cyclist after 200 sec?  \n",
        "* What is this speed in mph?  \n",
        "* Is this a good model of the velocity of a cyclist as a function of time?  Why or why not?\n",
        "\n",
        "**Your summary:**\n",
        "\n",
        "* The speed of the cyclist after 200 seconds is around 47 m/s.\n",
        "* The speed in mph is 109.27 mph.\n",
        "* This is not a good model of the velocity of a cyclist as a function of time because it is not logical that a cyclist would reach speeds of 109 mph.\n",
        "\n",
        "\n",
        "\n",
        "\n"
      ],
      "metadata": {
        "id": "eznt3F1g_YOH"
      }
    },
    {
      "cell_type": "code",
      "source": [
        "# in case you want to convert velocity here\n",
        "v = 49\n",
        "mph = v * 2.23\n",
        "print(mph)"
      ],
      "metadata": {
        "id": "tk5aTZwT_2Ex",
        "colab": {
          "base_uri": "https://localhost:8080/"
        },
        "outputId": "59ed0cc8-b635-4d51-e945-9b7bf81147ba"
      },
      "execution_count": 34,
      "outputs": [
        {
          "output_type": "stream",
          "name": "stdout",
          "text": [
            "109.27\n"
          ]
        }
      ]
    },
    {
      "cell_type": "markdown",
      "source": [
        "# Adding Air Resistance\n",
        "\n",
        "We will make our model for the cyclist more realistic by adding the effects of air resistance.  We model the air resistance as having a quadratic dependence on velocity:\n",
        "$$ F_{drag} = -B_2 v^2$$\n",
        "where $B_2 = \\frac{1}{2} C \\rho A$.\n",
        "* C = constant.  Set this equal to 0.5\n",
        "* rho is the density of air.  Set this to 1.225 kg/m$^3$ for the density of air at sea level.\n",
        "* A is the cross-sectional area of the cyclist, and we will use 0.33 m$^2$"
      ],
      "metadata": {
        "id": "2wDcXL9D7QYI"
      }
    },
    {
      "cell_type": "markdown",
      "source": [
        "## Define a new acceleration function\n",
        "\n",
        "Write a function called **accel_resist**\n",
        "\n",
        "* input\n",
        "  * $P$ - power output of cyclist\n",
        "  * $m$ - mass\n",
        "  * $v$ - velocity\n",
        "  * B2 - coefficient of air resistance\n",
        "\n",
        "* function will calculate acceleration as\n",
        "$$ a = \\frac{P}{mv} - \\frac{B_2}{m} v^2 $$\n",
        "\n",
        "* return\n",
        "  * $a$ - acceleration"
      ],
      "metadata": {
        "id": "Z6dqy0zE8VUT"
      }
    },
    {
      "cell_type": "code",
      "source": [
        "# your accel_resist function here\n",
        "def accel_resist(P,m,v,B2):\n",
        "  accel = (P / (m*v)) - ((B2 / m)*(v**2))\n",
        "  return accel"
      ],
      "metadata": {
        "id": "bIdT8i-l8UcG"
      },
      "execution_count": 39,
      "outputs": []
    },
    {
      "cell_type": "markdown",
      "source": [
        "## Write a new function to calculate the Euler method\n",
        "\n",
        "Write a function called **calculate_resist** that will do the following.\n",
        "\n",
        "* input\n",
        "  * t - time array\n",
        "  * v - velocity array\n",
        "  * dt - time step\n",
        "  * P - power output of cyclist\n",
        "  * m - mass of cyclist\n",
        "  * B2 - coefficient of air resistance\n",
        "* function should\n",
        "  * calculate velocity and time arrays using Euler method\n",
        "  ```python\n",
        "  v[i] = v[i-1] + accel_resist(P,m,v[i-1],B2) * dt\n",
        "  t[i] = t[i-1] + dt\n",
        "  ```\n",
        "* return\n",
        "  * time and velocity arrays"
      ],
      "metadata": {
        "id": "S4QyvVh38vYP"
      }
    },
    {
      "cell_type": "code",
      "source": [
        "# your calculate_resist function\n",
        "def calculate_resist(t,v,dt,P,m,B2):\n",
        "  for i in range(1,len(t)):\n",
        "    v[i] = v[i-1] + accel_resist(P,m,v[i-1],B2) * dt\n",
        "    t[i] = t[i-1] + dt\n",
        "  return t,v"
      ],
      "metadata": {
        "id": "_eAdRjSb6cuO"
      },
      "execution_count": 40,
      "outputs": []
    },
    {
      "cell_type": "markdown",
      "source": [
        "## Run your code with air resistance\n",
        "\n"
      ],
      "metadata": {
        "id": "Y8xHx4kw9Fga"
      }
    },
    {
      "cell_type": "code",
      "source": [
        "############################################################\n",
        "# This is your main program that will call the functions.\n",
        "############################################################\n",
        "\n",
        "# set up variables\n",
        "\n",
        "P = 400\n",
        "m = 70\n",
        "v0 = 4\n",
        "dt = 0.1\n",
        "tmax = 200\n",
        "rho = 1.225\n",
        "C = 0.5\n",
        "A = 0.33\n",
        "\n",
        "# calculate B2\n",
        "B2 = 0.5*C*rho*A\n",
        "\n",
        "# call intialize, save output as t,v\n",
        "t,v = initialize(v0,tmax,dt)\n",
        "# calculate the Euler method with no air resistance\n",
        "# save output as tnoair, vnoair\n",
        "tnoair,vnoair = calculate(t,v,dt,P,m)\n",
        "# call intialize, save output as t,v\n",
        "t,v = initialize(v0,tmax,dt)\n",
        "# calculate the Euler method WITH air resistance\n",
        "# save output as tair, vair\n",
        "tair,vair=calculate_resist(t,v,dt,P,m,B2)\n",
        "\n",
        "###############################################################\n",
        "# PLOT YOUR RESULTS\n",
        "###############################################################\n",
        "\n",
        "# open a figure, and make your figure size (6,6)\n",
        "plt.figure()\n",
        "# plot velocity with no air resistance vs time with a solid line\n",
        "plt.plot(tnoair,vnoair,'k',label='No Air Resistance')\n",
        "# plot velocity with air resistance vs time with a dashed line\n",
        "plt.plot(tair,vair,'k',linestyle='dashed',label='Air Resistance')\n",
        "# be sure to label the x and y axes\n",
        "plt.xlabel('time')\n",
        "plt.ylabel('velocity')\n",
        "# include a legend and figure title\n",
        "plt.title('Velocity vs Time')\n",
        "plt.legend()"
      ],
      "metadata": {
        "id": "qQ0Z_iN69weW",
        "colab": {
          "base_uri": "https://localhost:8080/",
          "height": 490
        },
        "outputId": "cec069be-bd93-42a8-f79c-0850fb58e5c8"
      },
      "execution_count": 43,
      "outputs": [
        {
          "output_type": "execute_result",
          "data": {
            "text/plain": [
              "<matplotlib.legend.Legend at 0x7b4cfe40ef80>"
            ]
          },
          "metadata": {},
          "execution_count": 43
        },
        {
          "output_type": "display_data",
          "data": {
            "text/plain": [
              "<Figure size 640x480 with 1 Axes>"
            ],
            "image/png": "[encoded data removed]"
          },
          "metadata": {}
        }
      ]
    },
    {
      "cell_type": "markdown",
      "source": [
        "# Solution for comparison\n",
        "\n",
        "Your figure should look like this.\n",
        "![image.png](data:image/png;base64,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)"
      ],
      "metadata": {
        "id": "bMZV37Gi1Fu5"
      }
    },
    {
      "cell_type": "markdown",
      "source": [
        "# Wiki Summary\n",
        "\n",
        "This notebook continues what we learned in Lab 3, so you can add this summary to your Lab 3 wiki.\n",
        "\n",
        "* describe the Euler method and why it is useful\n",
        "* describe how more complicated forces can be modeled\n",
        "* describe how the accuracy of the results varies with the timestep\n",
        "* how do you know what timestep to use?"
      ],
      "metadata": {
        "id": "DGI0DA20-I1i"
      }
    },
    {
      "cell_type": "code",
      "source": [],
      "metadata": {
        "id": "KmmBz0uX1QKS"
      },
      "execution_count": null,
      "outputs": []
    }
  ]
}