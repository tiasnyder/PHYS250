{
  "nbformat": 4,
  "nbformat_minor": 0,
  "metadata": {
    "colab": {
      "provenance": [],
      "include_colab_link": true
    },
    "kernelspec": {
      "name": "python3",
      "display_name": "Python 3"
    },
    "language_info": {
      "name": "python"
    }
  },
  "cells": [
    {
      "cell_type": "markdown",
      "metadata": {
        "id": "view-in-github",
        "colab_type": "text"
      },
      "source": [
        "<a href=\"https://colab.research.google.com/github/tiasnyder/PHYS250/blob/main/Tia_Snyder_Lab07_Integration.ipynb\" target=\"_parent\"><img src=\"https://colab.research.google.com/assets/colab-badge.svg\" alt=\"Open In Colab\"/></a>"
      ]
    },
    {
      "cell_type": "markdown",
      "source": [
        "# Lab 07: Numerical Integration\n",
        "\n",
        "* There are many techniques for implementing numerical integration.  In this lab, you will write code to implement the trapezoid method of integration.\n",
        "\n",
        "* You will use this function to calculate the integral in several different physical situations.\n",
        "\n",
        "* You will compare your function with python's built-it numerical integrators."
      ],
      "metadata": {
        "id": "xse95zEAUgb9"
      }
    },
    {
      "cell_type": "code",
      "execution_count": 1,
      "metadata": {
        "id": "to9v7ECGPTHI"
      },
      "outputs": [],
      "source": [
        "# import your modules here\n",
        "import numpy as np\n",
        "from matplotlib import pyplot as plt\n",
        "import math"
      ]
    },
    {
      "cell_type": "markdown",
      "source": [
        "# Part 1: Write a Function to Implement the Trapezoid Integration Method\n",
        "\n",
        "(5 points)\n",
        "\n",
        "Write a function called **trap** that does the following.\n",
        "\n",
        "Input:\n",
        "* array of y values\n",
        "* array of x values, spanning from from xmin to xmax\n",
        "\n",
        "\n",
        "Function should integrate using the trapezoid method.\n",
        "\n",
        "Return:\n",
        "* the integral of $f(x)$ between xmin and xmax"
      ],
      "metadata": {
        "id": "aiIJCQWpPW5i"
      }
    },
    {
      "cell_type": "code",
      "source": [
        "# write your function here\n",
        "def trap(x,y):\n",
        "  area = 0\n",
        "  for i in range(1,len(x)):\n",
        "    area += 0.5*(y[i-1]+y[i])*(x[i]-x[i-1])\n",
        "  return area"
      ],
      "metadata": {
        "id": "dEtQF_6BP0BI"
      },
      "execution_count": 2,
      "outputs": []
    },
    {
      "cell_type": "markdown",
      "source": [
        "# Part 2:  Calculate the Area Under the Half Circle\n",
        "\n",
        "(10 points)\n",
        "\n",
        "In the pre-lab assignment, we estimated the area of a half circle using the trapezoid method.\n",
        "\n",
        "The general equation for a circle is:\n",
        "\n",
        "$$ r^2 = x^2 + y^2 $$\n",
        "\n",
        "For a circle of $r=2$, we can solve for the y coordinate:\n",
        "\n",
        "$$ f(x) = y = \\sqrt{2^2 - x^2} $$.\n",
        "\n",
        "\n",
        "### Write a function to return the y values of your circle\n",
        "\n",
        "* In the first cell below, write a function called **mycircle** that returns the y value of the circle.\n",
        "\n",
        "* let the radius be an optional argument, and set the default value to $r=2$.\n",
        "\n",
        "\n",
        "\n",
        "\n"
      ],
      "metadata": {
        "id": "GVYQZD_hIsgj"
      }
    },
    {
      "cell_type": "code",
      "source": [
        "# write your function mycircle here\n",
        "def mycircle(x,r=2):\n",
        "  y = np.sqrt(r**2 - x**2)\n",
        "  return y"
      ],
      "metadata": {
        "id": "aQcI3aFGZXOT"
      },
      "execution_count": 7,
      "outputs": []
    },
    {
      "cell_type": "markdown",
      "source": [
        "### Calculate the area under the half circle using integration\n",
        "\n",
        "* In the next cell, set up an array of x values with $-2 \\le x \\le 2$, with 100 divisions between $-2$ and $2$.  \n",
        "* Calculate the corresponding y values using your **mycircle** function.\n",
        "\n",
        "* Then use your **trap** function to calculate the area under the circle.\n",
        "\n",
        "* Print the value of your area using a formatted print statement.  Print five decimal places."
      ],
      "metadata": {
        "id": "f1XsoJsAanUp"
      }
    },
    {
      "cell_type": "code",
      "source": [
        "x = np.linspace(-2,2,100)\n",
        "r = 2\n",
        "\n",
        "circle_y = mycircle(x,r)\n",
        "trap_area = trap(x,circle_y)\n",
        "\n",
        "print(f\"The area under the circle using the trapezoid method is: {trap_area:.6}\")"
      ],
      "metadata": {
        "id": "RG3AsBdIanBD",
        "colab": {
          "base_uri": "https://localhost:8080/"
        },
        "outputId": "bcfe06ff-206e-4473-bdad-8b131ce4b0a0"
      },
      "execution_count": 13,
      "outputs": [
        {
          "output_type": "stream",
          "name": "stdout",
          "text": [
            "The area under the circle using the trapezoid method is: 6.27644\n"
          ]
        }
      ]
    },
    {
      "cell_type": "markdown",
      "source": [
        "### Determine the Accuracy of Your Integral\n",
        "\n",
        "* Compare your answer with the accepted value of the integral.\n",
        "\n",
        "* Calculate and print your percent error."
      ],
      "metadata": {
        "id": "hzEpu9KQauef"
      }
    },
    {
      "cell_type": "code",
      "source": [
        "expected = 0.5*np.pi*r**2\n",
        "error = ((expected - trap_area) / expected)*100\n",
        "\n",
        "print(f\"The percent error is: {error:.2f}%\")"
      ],
      "metadata": {
        "id": "_kpNnTcda2rf",
        "colab": {
          "base_uri": "https://localhost:8080/"
        },
        "outputId": "f95d0c68-fe89-4bd5-8748-a5e202b3e6bb"
      },
      "execution_count": 17,
      "outputs": [
        {
          "output_type": "stream",
          "name": "stdout",
          "text": [
            "The percent error is: 0.11%\n"
          ]
        }
      ]
    },
    {
      "cell_type": "markdown",
      "source": [
        "### The impact of the spacing in the x array\n",
        "\n",
        "* Repeat your above calculations, but divide the region $-2 \\le x \\le 2$ into 1000 steps.\n",
        "\n",
        "* You can copy all of the necessary code into one cell to simplify your calculation.\n",
        "\n",
        "* **SUMMARY**: describe how the accuracy of your integral changes as the size of the steps in the x direction decreases?\n",
        "\n",
        "**YOUR ANSWER HERE**\n",
        "\n"
      ],
      "metadata": {
        "id": "fvsETTnNa6aE"
      }
    },
    {
      "cell_type": "code",
      "source": [
        "x = np.linspace(-2,2,1000)\n",
        "r = 2\n",
        "\n",
        "circle_y = mycircle(x,r)\n",
        "trap_area = trap(x,circle_y)\n",
        "\n",
        "print(f\"The area under the circle using the trapezoid method is: {trap_area:.6}\")\n",
        "\n",
        "expected = 0.5*np.pi*r**2\n",
        "error = ((expected - trap_area) / expected)*100\n",
        "\n",
        "print(f\"The percent error is: {error:.2f}%\")"
      ],
      "metadata": {
        "id": "tqnnaKTRcGsj",
        "colab": {
          "base_uri": "https://localhost:8080/"
        },
        "outputId": "be2ddbdf-b691-4840-bcce-eb69c7934710"
      },
      "execution_count": 18,
      "outputs": [
        {
          "output_type": "stream",
          "name": "stdout",
          "text": [
            "The area under the circle using the trapezoid method is: 6.28297\n",
            "The percent error is: 0.00%\n"
          ]
        }
      ]
    },
    {
      "cell_type": "markdown",
      "source": [
        "# Part 3: Integral of the Gaussian Distribution\n",
        "\n",
        "(10 points)\n",
        "\n",
        "The gaussian function (aka normal distribution) is:\n",
        "$$  f(x) = \\frac{1}{\\sqrt{2 \\pi} \\sigma} e^{-\\frac{1}{2}\\left(\\frac{x-\\bar{x}}{\\sigma}\\right)^2} $$\n",
        "\n",
        "where:\n",
        "* $\\bar{x}$ is the average of a distribution\n",
        "* $\\sigma$ is the standard deviation of the distribution\n",
        "\n",
        "\n",
        "Write a function **mygauss** that does the following:\n",
        "\n",
        "* Input\n",
        "  * x\n",
        "  * mean\n",
        "  * sigma\n",
        "\n",
        "* calculate $f(x)$\n",
        "\n",
        "* Return\n",
        "  * $f(x)$\n",
        "\n",
        "\n"
      ],
      "metadata": {
        "id": "bbNL0Tm5QF9b"
      }
    },
    {
      "cell_type": "code",
      "source": [
        "def mygauss(x,mean,sigma):\n",
        "  y = (1 / (np.sqrt(2*np.pi)*sigma)) * np.exp(-0.5*((x - mean)/sigma)**2)\n",
        "  return y"
      ],
      "metadata": {
        "id": "s8DTfGCQVjyG"
      },
      "execution_count": 19,
      "outputs": []
    },
    {
      "cell_type": "markdown",
      "source": [
        "### Integrate your gaussian\n",
        "\n",
        "* write code to integrate the gaussian between:\n",
        "* $ -\\sigma \\le x \\le \\sigma $\n",
        "\n",
        "* Compare your results with the expected answer, and calculate your percent error.\n",
        "\n",
        "* If you are not sure what the expected answer is, [look here](https://en.wikipedia.org/wiki/Normal_distribution)"
      ],
      "metadata": {
        "id": "215OJtBgczwW"
      }
    },
    {
      "cell_type": "code",
      "source": [
        "mean = 0\n",
        "sigma = 1\n",
        "x = np.linspace(-sigma,sigma,100)\n",
        "\n",
        "measured_array = mygauss(x,mean,sigma)\n",
        "measured = trap(x,measured_array)\n",
        "expected = .682\n",
        "\n",
        "print(f\"The measured value of the Gaussian Distribution is: {measured:.6f}\")\n",
        "\n",
        "error = np.abs(((expected - measured) / expected) * 100)\n",
        "print(f\"The percent error is: {error:.2f}%\")"
      ],
      "metadata": {
        "id": "OgZQ1qgLTglS",
        "colab": {
          "base_uri": "https://localhost:8080/"
        },
        "outputId": "ba7e3c41-3fc5-4693-e718-4d61bacc8acd"
      },
      "execution_count": 25,
      "outputs": [
        {
          "output_type": "stream",
          "name": "stdout",
          "text": [
            "The measured value of the Gaussian Distribution is: 0.682673\n",
            "The percent error is: 0.10%\n"
          ]
        }
      ]
    },
    {
      "cell_type": "markdown",
      "source": [
        "Calculate the integral for:\n",
        "* $ -2\\sigma \\le x \\le 2\\sigma $\n",
        "\n",
        "and compare with the accepted answer."
      ],
      "metadata": {
        "id": "yvYU9KDodFli"
      }
    },
    {
      "cell_type": "code",
      "source": [
        "mean = 0\n",
        "sigma = 1\n",
        "x = np.linspace(-2*sigma,2*sigma,100)\n",
        "\n",
        "measured_array = mygauss(x,mean,sigma)\n",
        "measured = trap(x,measured_array)\n",
        "expected = .954\n",
        "\n",
        "print(f\"The measured value of the Gaussian Distribution is: {measured:.6f}\")\n",
        "\n",
        "error = np.abs(((expected - measured) / expected) * 100)\n",
        "print(f\"The percent error is: {error:.2f}%\")"
      ],
      "metadata": {
        "id": "yFWRKdaudN79",
        "colab": {
          "base_uri": "https://localhost:8080/"
        },
        "outputId": "60a3e956-b388-4e67-c28c-5184932136de"
      },
      "execution_count": 26,
      "outputs": [
        {
          "output_type": "stream",
          "name": "stdout",
          "text": [
            "The measured value of the Gaussian Distribution is: 0.954470\n",
            "The percent error is: 0.05%\n"
          ]
        }
      ]
    },
    {
      "cell_type": "markdown",
      "source": [
        "Calculate the integral for:\n",
        "* $ -3\\sigma \\le x \\le 3\\sigma $\n",
        "\n",
        "and compare with the accepted answer."
      ],
      "metadata": {
        "id": "ZLAB82w2dM4d"
      }
    },
    {
      "cell_type": "code",
      "source": [
        "mean = 0\n",
        "sigma = 1\n",
        "x = np.linspace(-3*sigma,3*sigma,100)\n",
        "\n",
        "measured_array = mygauss(x,mean,sigma)\n",
        "measured = trap(x,measured_array)\n",
        "expected = .996\n",
        "\n",
        "print(f\"The measured value of the Gaussian Distribution is: {measured:.6f}\")\n",
        "\n",
        "error = np.abs(((expected - measured) / expected) * 100)\n",
        "print(f\"The percent error is: {error:.2f}%\")"
      ],
      "metadata": {
        "id": "YA0YYC7PdOeG",
        "colab": {
          "base_uri": "https://localhost:8080/"
        },
        "outputId": "24364ebf-3d65-4e62-e28b-3a56b2b1b14e"
      },
      "execution_count": 27,
      "outputs": [
        {
          "output_type": "stream",
          "name": "stdout",
          "text": [
            "The measured value of the Gaussian Distribution is: 0.997292\n",
            "The percent error is: 0.13%\n"
          ]
        }
      ]
    },
    {
      "cell_type": "markdown",
      "source": [
        "# Part 4: Using Python Built-In Functions\n",
        "(5 points)\n",
        "\n",
        "* Let's revisit parts 1 and 4 and use python's built-in functions to complete the integration.\n",
        "\n",
        "* You can use the ```scipy.integrate.trapezoid``` function to perform your integration."
      ],
      "metadata": {
        "id": "LbsBm4YYIdA9"
      }
    },
    {
      "cell_type": "code",
      "source": [
        "# import scipy.integrate.trapezoid\n",
        "from scipy.integrate import trapz\n",
        "\n",
        "# set up x and y arrays for the half circle\n",
        "x = np.linspace(-2,2,1000)\n",
        "y = mycircle(x)\n",
        "\n",
        "# call scipy.integrate.trapezoid to perform the integration\n",
        "integration = np.trapz(y,x)\n",
        "\n",
        "# print your result and the expected answer in a formatted print statement\n",
        "print(f\"The integration is: {integration:.2f}\")\n",
        "\n",
        "expected = 0.5*np.pi*r**2\n",
        "print(f\"The expected value is: {expected:.2f}\")"
      ],
      "metadata": {
        "id": "_IVhEmEpIo_1",
        "colab": {
          "base_uri": "https://localhost:8080/"
        },
        "outputId": "ada19b3b-b801-4656-ebfb-6c9b954005fb"
      },
      "execution_count": 36,
      "outputs": [
        {
          "output_type": "stream",
          "name": "stdout",
          "text": [
            "The integration is: 6.28\n",
            "The expected value is: 6.28\n"
          ]
        }
      ]
    },
    {
      "cell_type": "code",
      "source": [
        "# import scipy.integrate.trapezoid\n",
        "\n",
        "# set up x and y arrays for the gaussian\n",
        "x = np.linspace(-sigma,sigma,100)\n",
        "y = mygauss(x,mean,sigma)\n",
        "\n",
        "# call scipy.integrate.trapezoid to perform the integration between $-1\\sigma \\le x \\le 1\\sigma$.\n",
        "integration = np.trapz(y,x)\n",
        "# print your result and the expected answer in a formatted print statement\n",
        "print(f\"The integration is: {integration:.2f}\")\n",
        "\n",
        "expected = .682\n",
        "print(f\"The expected value is: {expected:.2f}\")"
      ],
      "metadata": {
        "id": "utR9UEHShLNq",
        "colab": {
          "base_uri": "https://localhost:8080/"
        },
        "outputId": "992d878d-0aed-49fd-81a6-c9ce9ec82b88"
      },
      "execution_count": 37,
      "outputs": [
        {
          "output_type": "stream",
          "name": "stdout",
          "text": [
            "The integration is: 0.68\n",
            "The expected value is: 0.68\n"
          ]
        }
      ]
    },
    {
      "cell_type": "markdown",
      "source": [
        "# Part 5: Calculating Area Using Monte Carlo\n",
        "\n",
        "(10 points)\n",
        "\n",
        "* On paper or the whiteboard, develop pseudo code for a function that will calculate the area of the half circle using the Monte Carlo method.\n",
        "* Check this with your instructor, and discuss how you could generalize this for any function.\n",
        "* Write your function **mcintegrate** in the cell below.\n",
        "* Your function should have an optional input argument, **visualize**, with a default value of ```False```.  If ```visualize=True```, your function should create a plot that shows:\n",
        "  * the function being integrated with a black solid line;\n",
        "  * the points that fall below the function as blue circles;\n",
        "  * the points that fall above the function as red circles;\n",
        "  * a title that reports the area.\n",
        "\n"
      ],
      "metadata": {
        "id": "YIsYaJeMICbr"
      }
    },
    {
      "cell_type": "code",
      "source": [
        "# your monte carlo function here\n",
        "def mcintegrate(visualize=False):\n",
        "  xrandom = np.random.uniform(low=-2,high=2,size=1000)\n",
        "  yrandom = np.random.uniform(low=0,high=2,size=1000)\n",
        "\n",
        "  plt.figure()\n",
        "\n",
        "  # plot the random points in the range\n",
        "  # plt.plot(xrandom,yrandom,\"bo\")\n",
        "\n",
        "  x = np.linspace(-2,2,1000)\n",
        "  y = mycircle(x)\n",
        "\n",
        "  # plot the curve in black\n",
        "  plt.plot(x,y,\"k\",linewidth=4)\n",
        "\n",
        "  ytest = mycircle(xrandom)\n",
        "\n",
        "  for i in range(len(xrandom)):\n",
        "    if (yrandom[i] < ytest[i]):\n",
        "      plt.plot(xrandom[i],yrandom[i],\"bo\")\n",
        "    elif (yrandom[i] > ytest[i]):\n",
        "      plt.plot(xrandom[i],yrandom[i],\"ro\")\n",
        "  return"
      ],
      "metadata": {
        "id": "pDnrvWT0IcV0"
      },
      "execution_count": 63,
      "outputs": []
    },
    {
      "cell_type": "markdown",
      "source": [
        "### Running Your Monte Carlo Integration Function\n",
        "\n",
        "* Use your function for integrating the area under the curve in Part 1.\n",
        "* Set ```visualize=True``` to see make sure your function is behaving as expected."
      ],
      "metadata": {
        "id": "i1EIBOeHd1CQ"
      }
    },
    {
      "cell_type": "code",
      "source": [
        "# your code to calculate the area of a half circle using monte carlo\n",
        "area = mcintegrate(visualize=True)"
      ],
      "metadata": {
        "id": "5egVlWsqemUZ",
        "colab": {
          "base_uri": "https://localhost:8080/",
          "height": 430
        },
        "outputId": "089fd97c-527d-468a-f028-f00e93d58833"
      },
      "execution_count": 64,
      "outputs": [
        {
          "output_type": "display_data",
          "data": {
            "text/plain": [
              "<Figure size 640x480 with 1 Axes>"
            ],
            "image/png": "[encoded data removed]"
          },
          "metadata": {}
        }
      ]
    }
  ]
}